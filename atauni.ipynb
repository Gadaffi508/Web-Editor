{
 "cells": [
  {
   "cell_type": "code",
   "execution_count": 71,
   "metadata": {},
   "outputs": [],
   "source": [
    "#from bs4 import BeautifulSoup\n",
    "#import requests\n",
    "\n",
    "#pip install selenium\n",
    "\n",
    "from selenium import webdriver\n",
    "from selenium.webdriver.common.by import By"
   ]
  },
  {
   "cell_type": "code",
   "execution_count": 78,
   "metadata": {},
   "outputs": [
    {
     "name": "stdout",
     "output_type": "stream",
     "text": [
      "Yapay zekâ\n",
      "Yapay Zeka (AI) nedir?\n",
      "Yapay Zekâ\n",
      "Gemini - fikirlerinize süper destek\n",
      "\n",
      "\n",
      "\n",
      "\n",
      "Yapay Zeka nedir?\n",
      "Yapay Zeka Nedir, AI Hakkında Bilmeniz Gerekenler - GTech\n",
      "Yapay Zeka (AI) | Oracle Türkiye\n",
      "Eğitimde Yapay Zeka ve Uygulamaları Artificial Intelligence ...\n",
      "Yapay Zeka (AI) nedir?\n",
      "Yapay Zekâ\n"
     ]
    }
   ],
   "source": [
    "url = \"https://www.google.com/search?q=yapay+zeka&oq=yapay+zeka&gs_lcrp=EgZjaHJvbWUqDggAEEUYJxg7GIAEGIoFMg4IABBFGCcYOxiABBiKBTIPCAEQABhDGLEDGIAEGIoFMg8IAhAAGEMYsQMYgAQYigUyDAgDEAAYQxiABBiKBTISCAQQABhDGIMBGLEDGIAEGIoFMgwIBRAAGEMYgAQYigUyDAgGEC4YQxiABBiKBTIGCAcQRRg80gEIMTczMmowajeoAgCwAgA&sourceid=chrome&ie=UTF-8\"\n",
    "\n",
    "driver = webdriver.Chrome()\n",
    "\n",
    "driver.get(url)\n",
    "\n",
    "titles = driver.find_elements(By.CSS_SELECTOR, \"h3.LC20lb.MBeuO.DKV0Md\")\n",
    "\n",
    "for title in titles:\n",
    "    print(title.text)\n",
    "\n",
    "driver.quit()\n",
    "#response = requests.get(url)\n",
    "#soup = BeautifulSoup(response.content, 'html.parser')"
   ]
  }
 ],
 "metadata": {
  "kernelspec": {
   "display_name": "Python 3",
   "language": "python",
   "name": "python3"
  },
  "language_info": {
   "codemirror_mode": {
    "name": "ipython",
    "version": 3
   },
   "file_extension": ".py",
   "mimetype": "text/x-python",
   "name": "python",
   "nbconvert_exporter": "python",
   "pygments_lexer": "ipython3",
   "version": "3.10.11"
  }
 },
 "nbformat": 4,
 "nbformat_minor": 2
}
